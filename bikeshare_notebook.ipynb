{
 "cells": [
  {
   "cell_type": "markdown",
   "metadata": {},
   "source": [
    "# Load Data"
   ]
  },
  {
   "cell_type": "code",
   "execution_count": 210,
   "metadata": {},
   "outputs": [],
   "source": [
    "import numpy as np\n",
    "import pandas as pd\n",
    "import time\n",
    "\n",
    "\n",
    "# Load Data from CSV   \n",
    "FOLDER = 'C:/Users/kal/PycharmProjects/Assigments/'\n",
    "CITY_DATA = { 'Chicago': 'chicago.csv',\n",
    "              'NewYorkCity': 'new_york_city.csv',\n",
    "              'Washington': 'washington.csv' }\n",
    "df = pd.read_csv(FOLDER+CITY_DATA[city], parse_dates=['Start Time','End Time'] )\n",
    "# Rename Columns to remove Spaces  \n",
    "df = df.rename(columns={'Start Time': 'StartTime', 'End Time': 'EndTime',\n",
    "                            'Trip Duration': 'TripDuration', 'Start Station': 'StartStation',\n",
    "                            'End Station': 'EndStation', 'User Type': 'UserType', 'user_gender':'Gender'})"
   ]
  },
  {
   "cell_type": "markdown",
   "metadata": {},
   "source": [
    "# Set City,Month,Day"
   ]
  },
  {
   "cell_type": "code",
   "execution_count": 211,
   "metadata": {},
   "outputs": [],
   "source": [
    "city , month, day = 'Chicago' , 'All','All'"
   ]
  },
  {
   "cell_type": "markdown",
   "metadata": {},
   "source": [
    "# SetDataFilters()"
   ]
  },
  {
   "cell_type": "code",
   "execution_count": 212,
   "metadata": {},
   "outputs": [
    {
     "name": "stdout",
     "output_type": "stream",
     "text": [
      "300000 Records Found\n"
     ]
    }
   ],
   "source": [
    "'''Add day , month , hour to be used as indexes ''' \n",
    "df['DayOfWeek'] = df['StartTime'].dt.day_name()\n",
    "df['Month'] = df['StartTime'].dt.month_name()\n",
    "df['Hour'] = df['StartTime'].dt.hour\n",
    "df.set_index(['Month', 'DayOfWeek','Hour'])\n",
    "df[['StartStation','EndStation']].dropna()\n",
    "if month == 'All' or  month == '' :\n",
    "    df['Month'].dropna()\n",
    "else:\n",
    "    df = df.loc[(df['Month'] == month)]\n",
    "if day == 'All' or day == '':\n",
    "    df['DayOfWeek'].dropna()\n",
    "else:\n",
    "    df = df.loc[(df['DayOfWeek'] == day ) ]\n",
    "print (str(df.count()[0])+ ' Records Found' )\n"
   ]
  },
  {
   "cell_type": "markdown",
   "metadata": {},
   "source": [
    "# TimeStats()"
   ]
  },
  {
   "cell_type": "code",
   "execution_count": 213,
   "metadata": {},
   "outputs": [
    {
     "name": "stdout",
     "output_type": "stream",
     "text": [
      "\n",
      "Calculating The Most Frequent Times of Travel...\n",
      "\n",
      "the most common Month is: June\n",
      "the most common day of week is: Tuesday\n",
      "the most common start hour is : 17:00\n",
      "\n",
      "This took 0.2888214588165283 seconds.\n",
      "----------------------------------------\n"
     ]
    }
   ],
   "source": [
    "'''Displays statistics on the most frequent times of travel.'''\n",
    "\n",
    "print('\\nCalculating The Most Frequent Times of Travel...\\n')\n",
    "start_time = time.time()\n",
    "\n",
    "# display the most common month\n",
    "top_month = df[['DayOfWeek', 'Month']].dropna()\n",
    "top_month = top_month.groupby(['Month']).size().sort_values(ascending=False)\n",
    "maxVal = top_month.iloc[0]\n",
    "maxVal = str(top_month[top_month == maxVal].index[0])\n",
    "print(\"the most common Month is: \" + maxVal)\n",
    "# display the most common day of week\n",
    "top_day = df[['DayOfWeek', 'Month']].dropna()\n",
    "top_day= top_day.groupby(['DayOfWeek']).size().sort_values(ascending=False)\n",
    "maxVal = top_day.iloc[0]\n",
    "maxVal = str(top_day[top_day == maxVal].index[0])\n",
    "print(\"the most common day of week is: \" + maxVal)\n",
    "\n",
    "# display the most common start hour\n",
    "top_hour = df[['Hour', 'Month']].dropna()\n",
    "top_hour = top_hour.groupby(['Hour']).size().sort_values(ascending=False)\n",
    "maxVal = top_hour.iloc[0]\n",
    "maxVal = str(top_hour[top_hour == maxVal].index[0]) +\":00\"\n",
    "print(\"the most common start hour is : \" + maxVal)\n",
    "\n",
    "print(\"\\nThis took %s seconds.\" % (time.time() - start_time))\n",
    "print('-'*40)\n",
    "\n"
   ]
  },
  {
   "cell_type": "markdown",
   "metadata": {},
   "source": [
    "# StationStats()"
   ]
  },
  {
   "cell_type": "code",
   "execution_count": 214,
   "metadata": {},
   "outputs": [
    {
     "name": "stdout",
     "output_type": "stream",
     "text": [
      "\n",
      "Calculating The Most Popular Stations and Trip...\n",
      "\n",
      "the most common Start Station is : Streeter Dr & Grand Ave\n",
      "the most common End Station is : Streeter Dr & Grand Ave\n",
      "Frequent trip from: Lake Shore Dr & Monroe St ---to---> Streeter Dr & Grand Ave\n",
      "\n",
      "This took 0.49595165252685547 seconds.\n",
      "----------------------------------------\n"
     ]
    }
   ],
   "source": [
    "\"\"\"Displays statistics on the most popular stations and trip.\"\"\"\n",
    "\n",
    "print('\\nCalculating The Most Popular Stations and Trip...\\n')\n",
    "start_time = time.time()\n",
    "\n",
    "# display most commonly used start station\n",
    "top_start = df[['StartStation','Month']].dropna()\n",
    "top_start = top_start.groupby(['StartStation']).count().sort_values(['Month'],ascending=False)\n",
    "maxVal = top_start.index[0]\n",
    "print(\"the most common Start Station is : \" + maxVal)\n",
    "\n",
    "# display most commonly used end station\n",
    "top_end = df[['EndStation', 'Month']].dropna()\n",
    "top_end = top_end.groupby(['EndStation']).count().sort_values(['Month'],ascending=False)\n",
    "maxVal = top_end.index[0]\n",
    "print(\"the most common End Station is : \" + maxVal)\n",
    "\n",
    "\n",
    "# display most frequent combination of start station and end station trip\n",
    "top_start_end = df[['StartStation', 'EndStation', 'Month']].dropna()\n",
    "#top_start_end.head()\n",
    "top_start_end = top_start_end.groupby(['StartStation','EndStation']).count().sort_values(['Month'],ascending=False)\n",
    "print('Frequent trip from: {} ---to---> {}'.format(top_start_end.index[0][0], top_start_end.index[0][1]))\n",
    "\n",
    "print(\"\\nThis took %s seconds.\" % (time.time() - start_time))\n",
    "print('-'*40)\n",
    "\n"
   ]
  },
  {
   "cell_type": "markdown",
   "metadata": {},
   "source": [
    "# UserStats()"
   ]
  },
  {
   "cell_type": "code",
   "execution_count": 215,
   "metadata": {},
   "outputs": [
    {
     "name": "stdout",
     "output_type": "stream",
     "text": [
      "\n",
      "Calculating User Stats...\n",
      "\n",
      "UserType\n",
      "Subscriber    238889\n",
      "Customer       61110\n",
      "Dependent          1\n",
      "\n",
      "Gender\n",
      "Male      181190\n",
      "Female     57758\n",
      "\n",
      "This took 0.1878829002380371 seconds.\n",
      "----------------------------------------\n"
     ]
    }
   ],
   "source": [
    "\"\"\"Displays statistics on bikeshare users.\"\"\"\n",
    "\n",
    "print('\\nCalculating User Stats...\\n')\n",
    "start_time = time.time()\n",
    "\n",
    "if 'UserType' not in df.columns:\n",
    "    print (\"No data Existintg\")\n",
    "else:\n",
    "    # Display counts of user types\n",
    "    user_types = df[['UserType', 'Month']].dropna()\n",
    "    user_types = user_types.groupby(['UserType']).size().sort_values(ascending=False)\n",
    "    print(user_types.to_string()+\"\\n\")\n",
    "    #maxVal = str(top_end[top_end == maxVal].index[0])\n",
    "    #print(\"the most common End Station is : \" + maxVal)\n",
    "\n",
    "    # Display counts of gender\n",
    "\n",
    "    if 'Gender' not in df.columns:\n",
    "        print(\"No data Existintg\")\n",
    "    else:\n",
    "        user_gender = df[['Gender', 'Month']].dropna()\n",
    "        user_gender = user_gender.groupby(['Gender']).size().sort_values(ascending=False)\n",
    "        print(user_gender.to_string())\n",
    "\n",
    "# Display earliest, most recent, and most common year of birth\n",
    "\n",
    "\n",
    "print(\"\\nThis took %s seconds.\" % (time.time() - start_time))\n",
    "print('-'*40)\n"
   ]
  },
  {
   "cell_type": "markdown",
   "metadata": {},
   "source": [
    "# TripDurationStats()"
   ]
  },
  {
   "cell_type": "code",
   "execution_count": 217,
   "metadata": {},
   "outputs": [
    {
     "name": "stdout",
     "output_type": "stream",
     "text": [
      "\n",
      "Calculating Trip Duration...\n",
      "\n",
      "Total Travel time is : 280871787 Seconds\n",
      "Mean Travel time is : 936 Seconds\n",
      "\n",
      "This took 0.012990236282348633 seconds.\n",
      "----------------------------------------\n"
     ]
    }
   ],
   "source": [
    "\"\"\"Displays statistics on the total and average trip duration.\"\"\"\n",
    "\n",
    "print('\\nCalculating Trip Duration...\\n')\n",
    "start_time = time.time()\n",
    "\n",
    "# display total travel time\n",
    "\n",
    "tot_trips = df[['TripDuration']]\n",
    "totVal = tot_trips['TripDuration'].sum()\n",
    "print(\"Total Travel time is : {} Seconds\".format(int(totVal)))\n",
    "\n",
    "# display mean travel time\n",
    "\n",
    "tot_trips = df[['TripDuration']]\n",
    "totVal = tot_trips['TripDuration'].mean()\n",
    "print(\"Mean Travel time is : {} Seconds\".format(int(totVal)))\n",
    "\n",
    "print(\"\\nThis took %s seconds.\" % (time.time() - start_time))\n",
    "print('-'*40)\n"
   ]
  },
  {
   "cell_type": "code",
   "execution_count": null,
   "metadata": {},
   "outputs": [],
   "source": []
  }
 ],
 "metadata": {
  "kernelspec": {
   "display_name": "Python 3",
   "language": "python",
   "name": "python3"
  },
  "language_info": {
   "codemirror_mode": {
    "name": "ipython",
    "version": 3
   },
   "file_extension": ".py",
   "mimetype": "text/x-python",
   "name": "python",
   "nbconvert_exporter": "python",
   "pygments_lexer": "ipython3",
   "version": "3.8.5"
  }
 },
 "nbformat": 4,
 "nbformat_minor": 4
}
